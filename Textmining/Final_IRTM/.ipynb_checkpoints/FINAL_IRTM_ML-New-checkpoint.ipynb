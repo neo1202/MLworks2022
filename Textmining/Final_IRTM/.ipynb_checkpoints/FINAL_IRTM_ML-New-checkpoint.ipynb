{
 "cells": [
  {
   "cell_type": "code",
   "execution_count": 16,
   "id": "11919966",
   "metadata": {},
   "outputs": [],
   "source": [
    "import sys\n",
    "import math\n",
    "import pandas as pd\n",
    "import numpy as np\n",
    "import matplotlib.pyplot as plt\n",
    "from matplotlib import rcParams\n",
    "import seaborn as sns\n",
    "\n",
    "import warnings\n",
    "warnings.filterwarnings('ignore')\n",
    "plt.rcParams['axes.labelsize'] = 14\n",
    "plt.rcParams['axes.titlesize'] = 16\n",
    "plt.rcParams['figure.titlesize'] = 16\n",
    "plt.rcParams['xtick.labelsize'] = 12\n",
    "plt.rcParams['ytick.labelsize'] = 12\n",
    "plt.rcParams['legend.fontsize'] = 10"
   ]
  },
  {
   "cell_type": "code",
   "execution_count": 17,
   "id": "d322439f",
   "metadata": {},
   "outputs": [
    {
     "name": "stdout",
     "output_type": "stream",
     "text": [
      "There are 8674 rows and 2 columns\n"
     ]
    }
   ],
   "source": [
    "#nRowsRead = 1000 # 先看一部分就好\n",
    "\n",
    "df = pd.read_csv('./mbti_datas/dataset1_clean_tokenize.csv', delimiter='\\t').dropna()# , nrows = nRowsRead\n",
    "nRow, nCol = df.shape\n",
    "print(f'There are {nRow} rows and {nCol} columns')\n",
    "df.reset_index(drop=True, inplace=True)\n",
    "#df.iloc[160, 0] #ESTP\n",
    "#df.iloc[100, 0] #INFP"
   ]
  },
  {
   "cell_type": "code",
   "execution_count": 18,
   "id": "0a35d0ca",
   "metadata": {},
   "outputs": [
    {
     "data": {
      "text/html": [
       "<div>\n",
       "<style scoped>\n",
       "    .dataframe tbody tr th:only-of-type {\n",
       "        vertical-align: middle;\n",
       "    }\n",
       "\n",
       "    .dataframe tbody tr th {\n",
       "        vertical-align: top;\n",
       "    }\n",
       "\n",
       "    .dataframe thead th {\n",
       "        text-align: right;\n",
       "    }\n",
       "</style>\n",
       "<table border=\"1\" class=\"dataframe\">\n",
       "  <thead>\n",
       "    <tr style=\"text-align: right;\">\n",
       "      <th></th>\n",
       "      <th>clean_posts</th>\n",
       "      <th>type</th>\n",
       "    </tr>\n",
       "  </thead>\n",
       "  <tbody>\n",
       "    <tr>\n",
       "      <th>0</th>\n",
       "      <td>enfp intj moment sportscent play prank ha life...</td>\n",
       "      <td>INFJ</td>\n",
       "    </tr>\n",
       "    <tr>\n",
       "      <th>1</th>\n",
       "      <td>lack post veri alarm sex bore posit exampl gir...</td>\n",
       "      <td>ENTP</td>\n",
       "    </tr>\n",
       "    <tr>\n",
       "      <th>2</th>\n",
       "      <td>good cours bless curs doe absolut posit friend...</td>\n",
       "      <td>INTP</td>\n",
       "    </tr>\n",
       "    <tr>\n",
       "      <th>3</th>\n",
       "      <td>dear intp enjoy convers day esoter gab natur u...</td>\n",
       "      <td>INTJ</td>\n",
       "    </tr>\n",
       "    <tr>\n",
       "      <th>4</th>\n",
       "      <td>anoth silli misconcept approach logic key unlo...</td>\n",
       "      <td>ENTJ</td>\n",
       "    </tr>\n",
       "    <tr>\n",
       "      <th>...</th>\n",
       "      <td>...</td>\n",
       "      <td>...</td>\n",
       "    </tr>\n",
       "    <tr>\n",
       "      <th>8669</th>\n",
       "      <td>ixfp becaus alway cat dom reason especi websit...</td>\n",
       "      <td>ISFP</td>\n",
       "    </tr>\n",
       "    <tr>\n",
       "      <th>8670</th>\n",
       "      <td>thi thread alreadi exist someplac els doe heck...</td>\n",
       "      <td>ENFP</td>\n",
       "    </tr>\n",
       "    <tr>\n",
       "      <th>8671</th>\n",
       "      <td>mani question thing purpl pill pick win lotter...</td>\n",
       "      <td>INTP</td>\n",
       "    </tr>\n",
       "    <tr>\n",
       "      <th>8672</th>\n",
       "      <td>veri conflict children honestli matern instinc...</td>\n",
       "      <td>INFP</td>\n",
       "    </tr>\n",
       "    <tr>\n",
       "      <th>8673</th>\n",
       "      <td>ha long sinc personalitycaf chang bit good som...</td>\n",
       "      <td>INFP</td>\n",
       "    </tr>\n",
       "  </tbody>\n",
       "</table>\n",
       "<p>8674 rows × 2 columns</p>\n",
       "</div>"
      ],
      "text/plain": [
       "                                            clean_posts  type\n",
       "0     enfp intj moment sportscent play prank ha life...  INFJ\n",
       "1     lack post veri alarm sex bore posit exampl gir...  ENTP\n",
       "2     good cours bless curs doe absolut posit friend...  INTP\n",
       "3     dear intp enjoy convers day esoter gab natur u...  INTJ\n",
       "4     anoth silli misconcept approach logic key unlo...  ENTJ\n",
       "...                                                 ...   ...\n",
       "8669  ixfp becaus alway cat dom reason especi websit...  ISFP\n",
       "8670  thi thread alreadi exist someplac els doe heck...  ENFP\n",
       "8671  mani question thing purpl pill pick win lotter...  INTP\n",
       "8672  veri conflict children honestli matern instinc...  INFP\n",
       "8673  ha long sinc personalitycaf chang bit good som...  INFP\n",
       "\n",
       "[8674 rows x 2 columns]"
      ]
     },
     "execution_count": 18,
     "metadata": {},
     "output_type": "execute_result"
    }
   ],
   "source": [
    "df"
   ]
  },
  {
   "cell_type": "code",
   "execution_count": 19,
   "id": "2d8b3959",
   "metadata": {},
   "outputs": [],
   "source": [
    "type_list = ['INFJ', 'ENTP', 'INTP', 'INTJ', 'ENTJ', 'ENFJ', 'INFP', 'ENFP', 'ISFP', 'ISTP', 'ISFJ', 'ISTJ', 'ESTP', 'ESFP', 'ESTJ', 'ESFJ']"
   ]
  },
  {
   "cell_type": "code",
   "execution_count": 20,
   "id": "434b8455",
   "metadata": {},
   "outputs": [],
   "source": [
    "my_file = open(\"chiScore.txt\", \"r\")\n",
    "impWords = my_file.read()\n",
    "impWords = impWords.split('\\n')\n",
    "impWords = impWords[:10000]"
   ]
  },
  {
   "cell_type": "markdown",
   "id": "7addb469",
   "metadata": {},
   "source": [
    "### 避免找不到字在訓練集，先建立tfidf vectors再分割訓練測試集，進行建模＆評估操作"
   ]
  },
  {
   "cell_type": "code",
   "execution_count": 21,
   "id": "9ede35ae",
   "metadata": {},
   "outputs": [],
   "source": [
    "df = df[df['clean_posts'].notnull()]"
   ]
  },
  {
   "cell_type": "code",
   "execution_count": 22,
   "id": "250456db",
   "metadata": {},
   "outputs": [],
   "source": [
    "def deleteTerms(text):\n",
    "    text = [i.strip() for i in text.split(' ')]  \n",
    "    text = [i for i in text if i in impWords]\n",
    "    text = list(filter(None, text)) #去除空字元\n",
    "    stringtext = ' '.join([str(item) for item in text])    \n",
    "    return stringtext\n",
    "df['clean_posts'] = df['clean_posts'].apply(deleteTerms)"
   ]
  },
  {
   "cell_type": "code",
   "execution_count": 23,
   "id": "0241cd02",
   "metadata": {},
   "outputs": [
    {
     "data": {
      "text/html": [
       "<div>\n",
       "<style scoped>\n",
       "    .dataframe tbody tr th:only-of-type {\n",
       "        vertical-align: middle;\n",
       "    }\n",
       "\n",
       "    .dataframe tbody tr th {\n",
       "        vertical-align: top;\n",
       "    }\n",
       "\n",
       "    .dataframe thead th {\n",
       "        text-align: right;\n",
       "    }\n",
       "</style>\n",
       "<table border=\"1\" class=\"dataframe\">\n",
       "  <thead>\n",
       "    <tr style=\"text-align: right;\">\n",
       "      <th></th>\n",
       "      <th>clean_posts</th>\n",
       "      <th>type</th>\n",
       "    </tr>\n",
       "  </thead>\n",
       "  <tbody>\n",
       "    <tr>\n",
       "      <th>0</th>\n",
       "      <td>enfp intj moment play ha life experi life repe...</td>\n",
       "      <td>INFJ</td>\n",
       "    </tr>\n",
       "    <tr>\n",
       "      <th>1</th>\n",
       "      <td>lack post veri sex bore posit exampl girlfrien...</td>\n",
       "      <td>ENTP</td>\n",
       "    </tr>\n",
       "    <tr>\n",
       "      <th>2</th>\n",
       "      <td>good doe absolut posit friend amaz ye love cas...</td>\n",
       "      <td>INTP</td>\n",
       "    </tr>\n",
       "    <tr>\n",
       "      <th>3</th>\n",
       "      <td>dear intp enjoy day gab natur univers idea eve...</td>\n",
       "      <td>INTJ</td>\n",
       "    </tr>\n",
       "    <tr>\n",
       "      <th>4</th>\n",
       "      <td>anoth silli approach logic whatev approach guy...</td>\n",
       "      <td>ENTJ</td>\n",
       "    </tr>\n",
       "    <tr>\n",
       "      <th>...</th>\n",
       "      <td>...</td>\n",
       "      <td>...</td>\n",
       "    </tr>\n",
       "    <tr>\n",
       "      <th>8669</th>\n",
       "      <td>becaus alway cat dom reason especi websit beco...</td>\n",
       "      <td>ISFP</td>\n",
       "    </tr>\n",
       "    <tr>\n",
       "      <th>8670</th>\n",
       "      <td>thi thread alreadi exist doe thi guess hard be...</td>\n",
       "      <td>ENFP</td>\n",
       "    </tr>\n",
       "    <tr>\n",
       "      <th>8671</th>\n",
       "      <td>mani question thing purpl win number whatev wo...</td>\n",
       "      <td>INTP</td>\n",
       "    </tr>\n",
       "    <tr>\n",
       "      <th>8672</th>\n",
       "      <td>veri conflict children honestli instinct close...</td>\n",
       "      <td>INFP</td>\n",
       "    </tr>\n",
       "    <tr>\n",
       "      <th>8673</th>\n",
       "      <td>ha long sinc personalitycaf bit good thi usual...</td>\n",
       "      <td>INFP</td>\n",
       "    </tr>\n",
       "  </tbody>\n",
       "</table>\n",
       "<p>8674 rows × 2 columns</p>\n",
       "</div>"
      ],
      "text/plain": [
       "                                            clean_posts  type\n",
       "0     enfp intj moment play ha life experi life repe...  INFJ\n",
       "1     lack post veri sex bore posit exampl girlfrien...  ENTP\n",
       "2     good doe absolut posit friend amaz ye love cas...  INTP\n",
       "3     dear intp enjoy day gab natur univers idea eve...  INTJ\n",
       "4     anoth silli approach logic whatev approach guy...  ENTJ\n",
       "...                                                 ...   ...\n",
       "8669  becaus alway cat dom reason especi websit beco...  ISFP\n",
       "8670  thi thread alreadi exist doe thi guess hard be...  ENFP\n",
       "8671  mani question thing purpl win number whatev wo...  INTP\n",
       "8672  veri conflict children honestli instinct close...  INFP\n",
       "8673  ha long sinc personalitycaf bit good thi usual...  INFP\n",
       "\n",
       "[8674 rows x 2 columns]"
      ]
     },
     "execution_count": 23,
     "metadata": {},
     "output_type": "execute_result"
    }
   ],
   "source": [
    "df= df[df['clean_posts'].map(lambda d: len(d)) > 0]\n",
    "df"
   ]
  },
  {
   "cell_type": "code",
   "execution_count": 24,
   "id": "45266a33",
   "metadata": {},
   "outputs": [
    {
     "data": {
      "text/plain": [
       "10000"
      ]
     },
     "execution_count": 24,
     "metadata": {},
     "output_type": "execute_result"
    }
   ],
   "source": [
    "Allwords = impWords #一個 總體Dictionary\n",
    "Allwords_dict = sorted(Allwords) #照字母排\n",
    "AllwordSize = len(Allwords_dict) #總term數\n",
    "AllwordSize"
   ]
  },
  {
   "cell_type": "code",
   "execution_count": 30,
   "id": "ab54b835",
   "metadata": {},
   "outputs": [
    {
     "data": {
      "text/html": [
       "<div>\n",
       "<style scoped>\n",
       "    .dataframe tbody tr th:only-of-type {\n",
       "        vertical-align: middle;\n",
       "    }\n",
       "\n",
       "    .dataframe tbody tr th {\n",
       "        vertical-align: top;\n",
       "    }\n",
       "\n",
       "    .dataframe thead th {\n",
       "        text-align: right;\n",
       "    }\n",
       "</style>\n",
       "<table border=\"1\" class=\"dataframe\">\n",
       "  <thead>\n",
       "    <tr style=\"text-align: right;\">\n",
       "      <th></th>\n",
       "      <th>clean_posts</th>\n",
       "      <th>type</th>\n",
       "    </tr>\n",
       "  </thead>\n",
       "  <tbody>\n",
       "    <tr>\n",
       "      <th>0</th>\n",
       "      <td>believ god life year ago mother veri strong be...</td>\n",
       "      <td>ENTP</td>\n",
       "    </tr>\n",
       "    <tr>\n",
       "      <th>1</th>\n",
       "      <td>someth movi gener sociopath time realli outsid...</td>\n",
       "      <td>INFP</td>\n",
       "    </tr>\n",
       "    <tr>\n",
       "      <th>2</th>\n",
       "      <td>doe anyon mbti type soul impress isfp intervie...</td>\n",
       "      <td>INFP</td>\n",
       "    </tr>\n",
       "    <tr>\n",
       "      <th>3</th>\n",
       "      <td>cheer tag favorit dunno whatev american disagr...</td>\n",
       "      <td>ESFJ</td>\n",
       "    </tr>\n",
       "    <tr>\n",
       "      <th>4</th>\n",
       "      <td>fuck mad befor post thi occasion morn ass buy ...</td>\n",
       "      <td>INTP</td>\n",
       "    </tr>\n",
       "    <tr>\n",
       "      <th>...</th>\n",
       "      <td>...</td>\n",
       "      <td>...</td>\n",
       "    </tr>\n",
       "    <tr>\n",
       "      <th>7801</th>\n",
       "      <td>lion thi question whi answer question job happ...</td>\n",
       "      <td>INFP</td>\n",
       "    </tr>\n",
       "    <tr>\n",
       "      <th>7802</th>\n",
       "      <td>labil guiard favorit painter ann vallay coster...</td>\n",
       "      <td>ESFJ</td>\n",
       "    </tr>\n",
       "    <tr>\n",
       "      <th>7803</th>\n",
       "      <td>respond author figur life gener question autho...</td>\n",
       "      <td>INFP</td>\n",
       "    </tr>\n",
       "    <tr>\n",
       "      <th>7804</th>\n",
       "      <td>sygma good advic veri thought year mayb thing ...</td>\n",
       "      <td>INFJ</td>\n",
       "    </tr>\n",
       "    <tr>\n",
       "      <th>7805</th>\n",
       "      <td>guy hair month cri whi peopl crazi lone absolu...</td>\n",
       "      <td>ISTP</td>\n",
       "    </tr>\n",
       "  </tbody>\n",
       "</table>\n",
       "<p>7806 rows × 2 columns</p>\n",
       "</div>"
      ],
      "text/plain": [
       "                                            clean_posts  type\n",
       "0     believ god life year ago mother veri strong be...  ENTP\n",
       "1     someth movi gener sociopath time realli outsid...  INFP\n",
       "2     doe anyon mbti type soul impress isfp intervie...  INFP\n",
       "3     cheer tag favorit dunno whatev american disagr...  ESFJ\n",
       "4     fuck mad befor post thi occasion morn ass buy ...  INTP\n",
       "...                                                 ...   ...\n",
       "7801  lion thi question whi answer question job happ...  INFP\n",
       "7802  labil guiard favorit painter ann vallay coster...  ESFJ\n",
       "7803  respond author figur life gener question autho...  INFP\n",
       "7804  sygma good advic veri thought year mayb thing ...  INFJ\n",
       "7805  guy hair month cri whi peopl crazi lone absolu...  ISTP\n",
       "\n",
       "[7806 rows x 2 columns]"
      ]
     },
     "execution_count": 30,
     "metadata": {},
     "output_type": "execute_result"
    }
   ],
   "source": [
    "from sklearn.model_selection import train_test_split\n",
    "X_train, X_test, y_train, y_test = train_test_split(df['clean_posts'], df['type'].values, test_size=0.1)\n",
    "df_test = df.iloc[X_test.index].reset_index(drop = True)\n",
    "df_train = df.iloc[X_train.index].reset_index(drop = True)\n",
    "\n",
    "df_train= df_train[df_train['clean_posts'].map(lambda d: len(d)) > 0]\n",
    "df_test= df_test[df_test['clean_posts'].map(lambda d: len(d)) > 0]\n",
    "df_train"
   ]
  },
  {
   "cell_type": "markdown",
   "id": "7a2a290d",
   "metadata": {},
   "source": [
    "### 計算每個字出現在多少訓練集文件裡面（`IDF`) -> wd_appear"
   ]
  },
  {
   "cell_type": "code",
   "execution_count": 31,
   "id": "f3dcf07f",
   "metadata": {},
   "outputs": [],
   "source": [
    "wd_appear = {k: 0 for k in Allwords_dict}\n",
    "for i in range(len(df_train)):\n",
    "    tmp_appear = {k: 0 for k in Allwords_dict}\n",
    "    for wd in df_train.loc[i, 'clean_posts'].split(' '):\n",
    "        tmp_appear[wd] = 1\n",
    "    for wd, num in wd_appear.items():\n",
    "        wd_appear[wd] += tmp_appear[wd]\n",
    "#wd_appear"
   ]
  },
  {
   "cell_type": "code",
   "execution_count": 34,
   "id": "1f3f55ae",
   "metadata": {},
   "outputs": [],
   "source": [
    "for wd, num in wd_appear.items():\n",
    "    wd_appear[wd] = math.log(len(df_train)+1/(wd_appear[wd]+1)) #smoothing\n",
    "#wd_appear"
   ]
  },
  {
   "cell_type": "markdown",
   "id": "3b796a05",
   "metadata": {},
   "source": [
    "### 計算tf在每個文件的每個字 `tf` : wd_cnt<br>\n",
    "- 同時結合 idf 後標準化成此文章對於每個字的陣列"
   ]
  },
  {
   "cell_type": "markdown",
   "id": "896a2386",
   "metadata": {},
   "source": [
    "## 用訓練集得到的IDF去算訓練集、測試集的TFIDF !"
   ]
  },
  {
   "cell_type": "code",
   "execution_count": 38,
   "id": "a8228f38",
   "metadata": {},
   "outputs": [],
   "source": [
    "allVector_train = [] #保存所有文章的vector，總共有文章數*字典字數 個參數\n",
    "for i in range(len(df_train)):  \n",
    "    wd_cnt = {k: 0 for k in Allwords_dict}\n",
    "    for wd in df_train.loc[i, 'clean_posts'].split(' '): #對於每篇文章的每個term\n",
    "        wd_cnt[wd] += 1\n",
    "        \n",
    "    arr = []\n",
    "    for w, cnt in wd_cnt.items():\n",
    "        arr.append(cnt*wd_appear[wd]) #tf*idf\n",
    "    normal_V = arr/np.linalg.norm(arr)\n",
    "    allVector_train.append(normal_V) #標準化成每個文章對於每個字的vector\n",
    "#allVector_train"
   ]
  },
  {
   "cell_type": "code",
   "execution_count": 39,
   "id": "027b6bdc",
   "metadata": {},
   "outputs": [],
   "source": [
    "allVector_test = [] #保存所有文章的vector，總共有文章數*字典字數 個參數\n",
    "for i in range(len(df_test)):  \n",
    "    wd_cnt = {k: 0 for k in Allwords_dict}\n",
    "    for wd in df_test.loc[i, 'clean_posts'].split(' '): #對於每篇文章的每個term\n",
    "        wd_cnt[wd] += 1\n",
    "        \n",
    "    arr = []\n",
    "    for w, cnt in wd_cnt.items():\n",
    "        arr.append(cnt*wd_appear[wd]) #tf*idf\n",
    "    normal_V = arr/np.linalg.norm(arr)\n",
    "    allVector_test.append(normal_V) #標準化成每個文章對於每個字的vector\n",
    "#allVector_test"
   ]
  },
  {
   "cell_type": "markdown",
   "id": "7de1f508",
   "metadata": {},
   "source": [
    "<b>此處已轉化為8674筆含有`特徵字典大小`(10000)個 0~1參數的npArray</b>"
   ]
  },
  {
   "cell_type": "code",
   "execution_count": 43,
   "id": "bb919faa",
   "metadata": {},
   "outputs": [],
   "source": [
    "X_train = allVector_train\n",
    "X_test = allVector_test\n",
    "y_train = df_train['type'].values\n",
    "y_test = df_test['type'].values"
   ]
  },
  {
   "cell_type": "code",
   "execution_count": 44,
   "id": "c1f744f4",
   "metadata": {},
   "outputs": [],
   "source": [
    "from sklearn.linear_model import LogisticRegression\n",
    "from sklearn.multiclass import OneVsRestClassifier\n",
    "model = LogisticRegression()\n",
    "ovr = OneVsRestClassifier(model) #一對多式分割\n",
    "ovr.fit(X_train, y_train)\n",
    "y_train_predict = ovr.predict(X_train)\n",
    "y_test_predict = ovr.predict(X_test)"
   ]
  },
  {
   "cell_type": "code",
   "execution_count": 45,
   "id": "6f4e9a86",
   "metadata": {},
   "outputs": [
    {
     "name": "stdout",
     "output_type": "stream",
     "text": [
      "              precision    recall  f1-score   support\n",
      "\n",
      "        ENFJ       0.79      0.26      0.39       163\n",
      "        ENFP       0.75      0.66      0.70       609\n",
      "        ENTJ       0.83      0.43      0.57       211\n",
      "        ENTP       0.74      0.65      0.69       613\n",
      "        ESFJ       1.00      0.08      0.15        37\n",
      "        ESFP       0.00      0.00      0.00        42\n",
      "        ESTJ       1.00      0.03      0.05        36\n",
      "        ESTP       0.68      0.20      0.31        83\n",
      "        INFJ       0.72      0.78      0.75      1335\n",
      "        INFP       0.68      0.89      0.77      1656\n",
      "        INTJ       0.71      0.76      0.74       990\n",
      "        INTP       0.72      0.83      0.77      1161\n",
      "        ISFJ       0.84      0.41      0.55       152\n",
      "        ISFP       0.83      0.42      0.56       243\n",
      "        ISTJ       0.76      0.44      0.56       183\n",
      "        ISTP       0.82      0.63      0.71       292\n",
      "\n",
      "    accuracy                           0.72      7806\n",
      "   macro avg       0.74      0.47      0.52      7806\n",
      "weighted avg       0.73      0.72      0.71      7806\n",
      "\n"
     ]
    }
   ],
   "source": [
    "from sklearn.metrics import classification_report\n",
    "print(classification_report(y_train,y_train_predict))"
   ]
  },
  {
   "cell_type": "code",
   "execution_count": 46,
   "id": "9ccbb146",
   "metadata": {},
   "outputs": [],
   "source": [
    "def plot_matrix(true_y, predicted_y, title='cm'):\n",
    "    print(classification_report(true_y, predicted_y))\n",
    "    \n",
    "    from sklearn.metrics import ConfusionMatrixDisplay\n",
    "    ConfusionMatrixDisplay.from_predictions(true_y, predicted_y, \\\n",
    "                colorbar=True, cmap='OrRd', include_values=False, normalize='pred', xticks_rotation=45)\n",
    "    \n",
    "#     tick_marks = np.arange(len(type_list))\n",
    "#     plt.xticks(tick_marks, type_list, rotation=45)\n",
    "#     plt.yticks(tick_marks, type_list)\n",
    "    plt.title(title)\n",
    "    plt.tight_layout()\n",
    "    plt.show()"
   ]
  },
  {
   "cell_type": "code",
   "execution_count": 47,
   "id": "2d03788b",
   "metadata": {},
   "outputs": [
    {
     "name": "stdout",
     "output_type": "stream",
     "text": [
      "              precision    recall  f1-score   support\n",
      "\n",
      "        ENFJ       0.83      0.19      0.30        27\n",
      "        ENFP       0.68      0.65      0.67        66\n",
      "        ENTJ       0.75      0.30      0.43        20\n",
      "        ENTP       0.77      0.57      0.66        72\n",
      "        ESFJ       0.00      0.00      0.00         5\n",
      "        ESFP       0.00      0.00      0.00         6\n",
      "        ESTJ       0.00      0.00      0.00         3\n",
      "        ESTP       1.00      0.17      0.29         6\n",
      "        INFJ       0.64      0.76      0.69       135\n",
      "        INFP       0.66      0.86      0.74       175\n",
      "        INTJ       0.64      0.75      0.69       101\n",
      "        INTP       0.65      0.78      0.71       143\n",
      "        ISFJ       1.00      0.50      0.67        14\n",
      "        ISFP       0.71      0.36      0.48        28\n",
      "        ISTJ       0.78      0.32      0.45        22\n",
      "        ISTP       0.93      0.58      0.71        45\n",
      "\n",
      "    accuracy                           0.68       868\n",
      "   macro avg       0.63      0.42      0.47       868\n",
      "weighted avg       0.69      0.68      0.66       868\n",
      "\n"
     ]
    },
    {
     "data": {
      "image/png": "[encoded data removed]",
      "text/plain": [
       "<Figure size 640x480 with 2 Axes>"
      ]
     },
     "metadata": {},
     "output_type": "display_data"
    }
   ],
   "source": [
    "plot_matrix(y_test, y_test_predict, title=('One vs Rest classifier\\n(TF-IDF vector+Logistic Reg)'))"
   ]
  },
  {
   "cell_type": "markdown",
   "id": "646c6714",
   "metadata": {},
   "source": [
    "以上是使用對於multiple class label使用`one vs rest` 的 `Logistic Regression Result`(結果都不錯)\n",
    "\n",
    "---"
   ]
  },
  {
   "cell_type": "code",
   "execution_count": 48,
   "id": "4a596227",
   "metadata": {},
   "outputs": [],
   "source": [
    "from sklearn.metrics import classification_report, f1_score\n",
    "import xgboost as xgb\n",
    "from xgboost import XGBClassifier"
   ]
  },
  {
   "cell_type": "code",
   "execution_count": 49,
   "id": "b9ea3971",
   "metadata": {},
   "outputs": [
    {
     "name": "stdout",
     "output_type": "stream",
     "text": [
      "[01:01:29] WARNING: /var/folders/sy/f16zz6x50xz3113nwtb9bvq00000gp/T/abs_44tbtwf8c1/croots/recipe/xgboost-split_1659548960882/work/src/learner.cc:1115: Starting in XGBoost 1.3.0, the default evaluation metric used with the objective 'multi:softprob' was changed from 'merror' to 'mlogloss'. Explicitly set eval_metric if you'd like to restore the old behavior.\n"
     ]
    }
   ],
   "source": [
    "xgboostModel = XGBClassifier(n_estimators=15, learning_rate=0.5, max_depth=4 ,gamma=0.5)\n",
    "xgboostModel.fit(X_train, y_train)\n",
    "\n",
    "predicted_xgbc = xgboostModel.predict(X_test)"
   ]
  },
  {
   "cell_type": "code",
   "execution_count": 50,
   "id": "f79cb5a4",
   "metadata": {},
   "outputs": [
    {
     "name": "stdout",
     "output_type": "stream",
     "text": [
      "              precision    recall  f1-score   support\n",
      "\n",
      "        ENFJ       0.56      0.33      0.42        27\n",
      "        ENFP       0.62      0.65      0.64        66\n",
      "        ENTJ       0.58      0.35      0.44        20\n",
      "        ENTP       0.68      0.50      0.58        72\n",
      "        ESFJ       1.00      0.20      0.33         5\n",
      "        ESFP       0.00      0.00      0.00         6\n",
      "        ESTJ       0.00      0.00      0.00         3\n",
      "        ESTP       0.43      0.50      0.46         6\n",
      "        INFJ       0.62      0.69      0.65       135\n",
      "        INFP       0.67      0.79      0.72       175\n",
      "        INTJ       0.58      0.65      0.61       101\n",
      "        INTP       0.63      0.71      0.66       143\n",
      "        ISFJ       0.64      0.50      0.56        14\n",
      "        ISFP       0.73      0.57      0.64        28\n",
      "        ISTJ       0.70      0.32      0.44        22\n",
      "        ISTP       0.83      0.53      0.65        45\n",
      "\n",
      "    accuracy                           0.64       868\n",
      "   macro avg       0.58      0.46      0.49       868\n",
      "weighted avg       0.64      0.64      0.63       868\n",
      "\n"
     ]
    },
    {
     "data": {
      "image/png": "[encoded data removed]",
      "text/plain": [
       "<Figure size 640x480 with 2 Axes>"
      ]
     },
     "metadata": {},
     "output_type": "display_data"
    }
   ],
   "source": [
    "plot_matrix(y_test, predicted_xgbc, title='XGBClassifier')"
   ]
  },
  {
   "cell_type": "markdown",
   "id": "a187a7d6",
   "metadata": {},
   "source": [
    "ESTJ只有兩篇 沒取得好像蠻正常"
   ]
  },
  {
   "cell_type": "code",
   "execution_count": null,
   "id": "d7203ee7",
   "metadata": {},
   "outputs": [],
   "source": []
  }
 ],
 "metadata": {
  "kernelspec": {
   "display_name": "Python 3 (ipykernel)",
   "language": "python",
   "name": "python3"
  },
  "language_info": {
   "codemirror_mode": {
    "name": "ipython",
    "version": 3
   },
   "file_extension": ".py",
   "mimetype": "text/x-python",
   "name": "python",
   "nbconvert_exporter": "python",
   "pygments_lexer": "ipython3",
   "version": "3.9.13"
  }
 },
 "nbformat": 4,
 "nbformat_minor": 5
}
