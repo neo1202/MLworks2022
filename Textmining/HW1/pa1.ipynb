{
 "cells": [
  {
   "cell_type": "code",
   "execution_count": 3,
   "metadata": {},
   "outputs": [
    {
     "name": "stdout",
     "output_type": "stream",
     "text": [
      "And Yugoslav authorities are planning the arrest of eleven coal miners \n",
      "and two opposition politicians on suspicion of sabotage, that's in \n",
      "connection with strike action against President Slobodan Milosevic. \n",
      "You are listening to BBC news for The World.\n",
      "length of dict: 38\n"
     ]
    }
   ],
   "source": [
    "import requests\n",
    "file_url = 'https://ceiba.ntu.edu.tw/course/35d27d/content/28.txt'\n",
    "response = requests.get(file_url)\n",
    "if (response.status_code):\n",
    "    data = response.text\n",
    "    print(data) #original text\n",
    "data = [i.strip() for i in data.split(' ')]\n",
    "text = [i.lower() for i in data]\n",
    "\n",
    "import nltk\n",
    "from nltk.stem import PorterStemmer\n",
    "ps = PorterStemmer()\n",
    "text = [i.translate({ ord(c): None for c in \".,'\" }) for i in text] #delete punctuation\n",
    "text = [ps.stem(i) for i in text] #porter's algo\n",
    "print(\"length of dict:\",len(text))\n",
    "#text"
   ]
  },
  {
   "cell_type": "code",
   "execution_count": 4,
   "metadata": {},
   "outputs": [],
   "source": [
    "#lemmatization\n",
    "word_list = ['is', 'am', 'are', 'was', 'were']\n",
    "text = ['be' if idx in word_list else idx for idx in text]\n",
    "#text"
   ]
  },
  {
   "cell_type": "code",
   "execution_count": 5,
   "metadata": {},
   "outputs": [
    {
     "data": {
      "text/plain": [
       "['yugoslav',\n",
       " 'author',\n",
       " 'plan',\n",
       " 'arrest',\n",
       " 'eleven',\n",
       " 'coal',\n",
       " 'miner',\n",
       " 'two',\n",
       " 'opposit',\n",
       " 'politician',\n",
       " 'suspicion',\n",
       " 'sabotag',\n",
       " 'connect',\n",
       " 'strike',\n",
       " 'action',\n",
       " 'presid',\n",
       " 'slobodan',\n",
       " 'milosev',\n",
       " 'listen',\n",
       " 'bbc',\n",
       " 'news',\n",
       " 'world']"
      ]
     },
     "execution_count": 5,
     "metadata": {},
     "output_type": "execute_result"
    }
   ],
   "source": [
    "#stopwords from txt\n",
    "my_file = open(\"stopwords.txt\", \"r\")\n",
    "stopwords = my_file.read()\n",
    "stopwords = [stopwords.translate({ ord(c): None for c in \"‘’ \" }).split(\",\") ][0]#delete punctuation\n",
    "text = [i for i in text if i not in stopwords]\n",
    "text"
   ]
  },
  {
   "cell_type": "code",
   "execution_count": 6,
   "metadata": {},
   "outputs": [],
   "source": [
    "with open('result.txt', 'w') as f:\n",
    "    f.write(text[0])\n",
    "    for element in text[1:]:\n",
    "        f.write(element)\n",
    "        f.write('\\n')"
   ]
  },
  {
   "cell_type": "code",
   "execution_count": null,
   "metadata": {},
   "outputs": [],
   "source": []
  }
 ],
 "metadata": {
  "kernelspec": {
   "display_name": "Python 3 (ipykernel)",
   "language": "python",
   "name": "python3"
  },
  "language_info": {
   "codemirror_mode": {
    "name": "ipython",
    "version": 3
   },
   "file_extension": ".py",
   "mimetype": "text/x-python",
   "name": "python",
   "nbconvert_exporter": "python",
   "pygments_lexer": "ipython3",
   "version": "3.8.5"
  }
 },
 "nbformat": 4,
 "nbformat_minor": 4
}
