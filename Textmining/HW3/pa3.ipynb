{
 "cells": [
  {
   "cell_type": "code",
   "execution_count": 2,
   "id": "fcd31c84",
   "metadata": {},
   "outputs": [],
   "source": [
    "import sys\n",
    "import nltk\n",
    "import math\n",
    "import pandas as pd\n",
    "import numpy as np\n",
    "from nltk.stem import PorterStemmer\n",
    "ps = PorterStemmer()\n",
    "word_list = ['is', 'am', 'are', 'was', 'were']\n",
    "np.set_printoptions(threshold=sys.maxsize)\n",
    "\n",
    "#stopwords from txt\n",
    "my_file = open(\"stopwords.txt\", \"r\")\n",
    "stopwords = my_file.read()\n",
    "stopwords = [stopwords.translate({ ord(c): None for c in '\" ' }).split(\",\") ][0]#delete punctuation"
   ]
  },
  {
   "cell_type": "code",
   "execution_count": 2,
   "id": "0ed4f7bb",
   "metadata": {},
   "outputs": [],
   "source": [
    "def tokenize(data):\n",
    "    data = [i.strip() for i in data.split(' ')]\n",
    "    text = [i.lower() for i in data]\n",
    "    text = [i.translate({ ord(c): None for c in '\"1234567890' }) for i in text] #delete punctuation\n",
    "    text = [i.translate({ ord(c): None for c in \"#$%&'()*+,-./:;!<=>?@[\\]^_`{|~} \" }) for i in text] #delete punctuation\n",
    "    text = [ps.stem(i) for i in text] #porter's algo\n",
    "    text = ['be' if idx in word_list else idx for idx in text] #lemmatization\n",
    "    text = [i for i in text if i not in stopwords] #stopwords delete\n",
    "    text = list(filter(None, text)) #去除空字元\n",
    "    return text"
   ]
  },
  {
   "cell_type": "code",
   "execution_count": 3,
   "id": "43c88586",
   "metadata": {},
   "outputs": [],
   "source": [
    "import requests\n",
    "file_url = 'https://ceiba.ntu.edu.tw/course/88ca22/content/training.txt'\n",
    "response = requests.get(file_url)\n",
    "if (response.status_code):\n",
    "    data = response.text\n",
    "    #print(data) #original text\n",
    "    classDict = [['keep zero empty']]\n",
    "    for a in data.split('\\n'):\n",
    "        tmp = []\n",
    "        a = a.strip()\n",
    "        head = a.split(' ')[0]\n",
    "        tmp = a.split(' ')[1:]\n",
    "        classDict.append(tmp)\n",
    "#classDict"
   ]
  },
  {
   "cell_type": "code",
   "execution_count": 4,
   "id": "af63cd4a",
   "metadata": {},
   "outputs": [
    {
     "data": {
      "text/plain": [
       "5170"
      ]
     },
     "execution_count": 4,
     "metadata": {},
     "output_type": "execute_result"
    }
   ],
   "source": [
    "#建一個總體的字典\n",
    "def buildDict(text): #只算有無出現, 弄成list\n",
    "    for word in text:\n",
    "        if word not in Allwords:\n",
    "            Allwords.append(word)\n",
    "\n",
    "Allwords = []\n",
    "for i in range(1,14):\n",
    "    for docid in classDict[i]:\n",
    "        with open(f'./data/{docid}.txt') as f:\n",
    "            data=f.read()\n",
    "            text = tokenize(data) \n",
    "            buildDict(text)\n",
    "Allwords_dict = sorted(Allwords) #照字母排\n",
    "AllwordSize = len(Allwords_dict) #總term數\n",
    "AllwordSize"
   ]
  },
  {
   "cell_type": "code",
   "execution_count": 5,
   "id": "c73cc270",
   "metadata": {},
   "outputs": [],
   "source": [
    "eachCategorycnt_dict = [['keep zero empty']] #方便計算從1開始到13\n",
    "wcount_dict = [['keep zero empty']] #計算每類別中'總字數'有多少\n",
    "for i in range(1,14):\n",
    "    dict_from_list = {k: 0 for k in Allwords_dict}\n",
    "    wcount = 0\n",
    "    for docid in classDict[i]:\n",
    "        with open(f'./data/{docid}.txt') as f:\n",
    "            data=f.read()\n",
    "            text = tokenize(data) \n",
    "            for word in text:\n",
    "                dict_from_list[word] += 1\n",
    "                wcount+=1\n",
    "    eachCategorycnt_dict.append(dict_from_list)\n",
    "    wcount_dict.append(wcount)\n",
    "#eachCategorycnt_dict"
   ]
  },
  {
   "cell_type": "code",
   "execution_count": 6,
   "id": "e6beb7d1",
   "metadata": {},
   "outputs": [],
   "source": [
    "#算出每個字在每個類別中出現的比率分數\n",
    "import copy\n",
    "\n",
    "params_dict = copy.deepcopy(eachCategorycnt_dict)\n",
    "for category in range(1,14):\n",
    "    for k in params_dict[category]:\n",
    "        params_dict[category][k] = (params_dict[category][k]+1) / (wcount_dict[category]+AllwordSize)\n",
    "#params_dict[13]"
   ]
  },
  {
   "cell_type": "markdown",
   "id": "33bcce1c",
   "metadata": {},
   "source": [
    "<h4>Feature selection</h4>"
   ]
  },
  {
   "cell_type": "code",
   "execution_count": 7,
   "id": "cebd6da6",
   "metadata": {},
   "outputs": [],
   "source": [
    "#先建立一個算所有terms在所有文章中出現次數加總\n",
    "#先前已計算個類別中字典裡所有字出現次數在eachCategorycnt_dict\n",
    "#其中可能有反指標\n",
    "wordSum_dict = {k: 0 for k in Allwords_dict}\n",
    "for wd in wordSum_dict:\n",
    "    for i in range(1,14):\n",
    "        wordSum_dict[wd] += eachCategorycnt_dict[i][wd] #每個class出現次數加總即為總出現次數\n",
    "        \n",
    "chi_score_dict = {k: 0 for k in Allwords_dict} #另創一個紀錄chi-square value \n",
    "for wd in wordSum_dict:\n",
    "    expected = wordSum_dict[wd] / 13\n",
    "    score = 0\n",
    "    for c in range(1,14):\n",
    "        tmp = ((eachCategorycnt_dict[i][wd]-expected)**2)/expected\n",
    "        score += tmp\n",
    "    chi_score_dict[wd] = score\n",
    "    \n",
    "chi_score_dict = dict( sorted(chi_score_dict.items(), key=lambda x: x[1], reverse=True) ) #照大小排\n",
    "#chi_score_dict "
   ]
  },
  {
   "cell_type": "code",
   "execution_count": 8,
   "id": "05baaaf6",
   "metadata": {},
   "outputs": [
    {
     "data": {
      "text/plain": [
       "490"
      ]
     },
     "execution_count": 8,
     "metadata": {},
     "output_type": "execute_result"
    }
   ],
   "source": [
    "imp_feature = []\n",
    "for key in chi_score_dict.keys():\n",
    "    imp_feature.append(key)\n",
    "imp_feature = imp_feature[545:1035]\n",
    "len(imp_feature)"
   ]
  },
  {
   "cell_type": "code",
   "execution_count": 9,
   "id": "a719ce19",
   "metadata": {},
   "outputs": [],
   "source": [
    "test_id = np.arange(1,1096)\n",
    "test_id = [x for x in test_id if x not in [int(item) for sublist in classDict[1:] for item in sublist]] #用來test的"
   ]
  },
  {
   "cell_type": "code",
   "execution_count": 10,
   "id": "6e2097f5",
   "metadata": {},
   "outputs": [],
   "source": [
    "def computeCat(docid): #return category\n",
    "    with open(f'./data/{docid}.txt') as f:\n",
    "        data=f.read()\n",
    "        text = tokenize(data) \n",
    "        text = [x for x in text if x in imp_feature]\n",
    "        maxC = 0\n",
    "        maxValue = -2e200\n",
    "        for i in range(1, 14):\n",
    "            tmpValue = 0\n",
    "            for word in text:\n",
    "                tmpValue += math.log(params_dict[i][word])\n",
    "            if tmpValue > maxValue:\n",
    "                maxValue = tmpValue\n",
    "                maxC = i\n",
    "        return maxC"
   ]
  },
  {
   "cell_type": "code",
   "execution_count": 11,
   "id": "1270ee94",
   "metadata": {},
   "outputs": [
    {
     "data": {
      "text/html": [
       "<div>\n",
       "<style scoped>\n",
       "    .dataframe tbody tr th:only-of-type {\n",
       "        vertical-align: middle;\n",
       "    }\n",
       "\n",
       "    .dataframe tbody tr th {\n",
       "        vertical-align: top;\n",
       "    }\n",
       "\n",
       "    .dataframe thead th {\n",
       "        text-align: right;\n",
       "    }\n",
       "</style>\n",
       "<table border=\"1\" class=\"dataframe\">\n",
       "  <thead>\n",
       "    <tr style=\"text-align: right;\">\n",
       "      <th></th>\n",
       "      <th>Id</th>\n",
       "      <th>Value</th>\n",
       "    </tr>\n",
       "  </thead>\n",
       "  <tbody>\n",
       "    <tr>\n",
       "      <th>0</th>\n",
       "      <td>17</td>\n",
       "      <td>2</td>\n",
       "    </tr>\n",
       "    <tr>\n",
       "      <th>1</th>\n",
       "      <td>18</td>\n",
       "      <td>2</td>\n",
       "    </tr>\n",
       "    <tr>\n",
       "      <th>2</th>\n",
       "      <td>20</td>\n",
       "      <td>2</td>\n",
       "    </tr>\n",
       "    <tr>\n",
       "      <th>3</th>\n",
       "      <td>21</td>\n",
       "      <td>2</td>\n",
       "    </tr>\n",
       "    <tr>\n",
       "      <th>4</th>\n",
       "      <td>22</td>\n",
       "      <td>2</td>\n",
       "    </tr>\n",
       "    <tr>\n",
       "      <th>...</th>\n",
       "      <td>...</td>\n",
       "      <td>...</td>\n",
       "    </tr>\n",
       "    <tr>\n",
       "      <th>895</th>\n",
       "      <td>1091</td>\n",
       "      <td>6</td>\n",
       "    </tr>\n",
       "    <tr>\n",
       "      <th>896</th>\n",
       "      <td>1092</td>\n",
       "      <td>6</td>\n",
       "    </tr>\n",
       "    <tr>\n",
       "      <th>897</th>\n",
       "      <td>1093</td>\n",
       "      <td>6</td>\n",
       "    </tr>\n",
       "    <tr>\n",
       "      <th>898</th>\n",
       "      <td>1094</td>\n",
       "      <td>6</td>\n",
       "    </tr>\n",
       "    <tr>\n",
       "      <th>899</th>\n",
       "      <td>1095</td>\n",
       "      <td>4</td>\n",
       "    </tr>\n",
       "  </tbody>\n",
       "</table>\n",
       "<p>900 rows × 2 columns</p>\n",
       "</div>"
      ],
      "text/plain": [
       "       Id  Value\n",
       "0      17      2\n",
       "1      18      2\n",
       "2      20      2\n",
       "3      21      2\n",
       "4      22      2\n",
       "..    ...    ...\n",
       "895  1091      6\n",
       "896  1092      6\n",
       "897  1093      6\n",
       "898  1094      6\n",
       "899  1095      4\n",
       "\n",
       "[900 rows x 2 columns]"
      ]
     },
     "execution_count": 11,
     "metadata": {},
     "output_type": "execute_result"
    }
   ],
   "source": [
    "data = [] #用來最後輸出\n",
    "for tid in test_id:\n",
    "    tid_category = computeCat(tid)\n",
    "    data.append([tid, tid_category])\n",
    "df = pd.DataFrame(data, columns=['Id', 'Value'])   \n",
    "df"
   ]
  },
  {
   "cell_type": "code",
   "execution_count": 12,
   "id": "375f774d",
   "metadata": {},
   "outputs": [
    {
     "data": {
      "text/plain": [
       "9     277\n",
       "2     112\n",
       "11     69\n",
       "5      68\n",
       "7      55\n",
       "6      49\n",
       "12     46\n",
       "8      42\n",
       "3      40\n",
       "4      40\n",
       "1      39\n",
       "10     36\n",
       "13     27\n",
       "Name: Value, dtype: int64"
      ]
     },
     "execution_count": 12,
     "metadata": {},
     "output_type": "execute_result"
    }
   ],
   "source": [
    "df['Value'].value_counts()"
   ]
  },
  {
   "cell_type": "code",
   "execution_count": 13,
   "id": "f658ecb2",
   "metadata": {},
   "outputs": [],
   "source": [
    "#df2 = pd.DataFrame(params_dict[13].items(), columns=['wd', 'val'])\n",
    "#df2.sort_values(by='val')\n",
    "import os   \n",
    "df.to_csv('./outAns.csv', index=False) "
   ]
  },
  {
   "cell_type": "code",
   "execution_count": null,
   "id": "a827168a",
   "metadata": {},
   "outputs": [],
   "source": []
  },
  {
   "cell_type": "code",
   "execution_count": null,
   "id": "82ca55d6",
   "metadata": {},
   "outputs": [],
   "source": []
  }
 ],
 "metadata": {
  "kernelspec": {
   "display_name": "Python 3 (ipykernel)",
   "language": "python",
   "name": "python3"
  },
  "language_info": {
   "codemirror_mode": {
    "name": "ipython",
    "version": 3
   },
   "file_extension": ".py",
   "mimetype": "text/x-python",
   "name": "python",
   "nbconvert_exporter": "python",
   "pygments_lexer": "ipython3",
   "version": "3.9.13"
  }
 },
 "nbformat": 4,
 "nbformat_minor": 5
}
